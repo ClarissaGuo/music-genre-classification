Epoch 1/100
44/44 [==============================] - ETA: 0s - loss: 2.9307 - accuracy: 0.1314
Epoch 1: val_loss improved from inf to 2.29593, saving model to music_classification.h5
44/44 [==============================] - 155s 3s/step - loss: 2.9307 - accuracy: 0.1314 - val_loss: 2.2959 - val_accuracy: 0.1067
Epoch 2/100
44/44 [==============================] - ETA: 0s - loss: 2.2251 - accuracy: 0.1771
Epoch 2: val_loss improved from 2.29593 to 2.28349, saving model to music_classification.h5
44/44 [==============================] - 145s 3s/step - loss: 2.2251 - accuracy: 0.1771 - val_loss: 2.2835 - val_accuracy: 0.1067
Epoch 3/100
44/44 [==============================] - ETA: 0s - loss: 2.2073 - accuracy: 0.2029
Epoch 3: val_loss improved from 2.28349 to 2.27789, saving model to music_classification.h5
44/44 [==============================] - 148s 3s/step - loss: 2.2073 - accuracy: 0.2029 - val_loss: 2.2779 - val_accuracy: 0.1067
Epoch 4/100
44/44 [==============================] - ETA: 0s - loss: 2.1504 - accuracy: 0.2329
Epoch 4: val_loss improved from 2.27789 to 2.27359, saving model to music_classification.h5
44/44 [==============================] - 145s 3s/step - loss: 2.1504 - accuracy: 0.2329 - val_loss: 2.2736 - val_accuracy: 0.1133
Epoch 5/100
44/44 [==============================] - ETA: 0s - loss: 2.1451 - accuracy: 0.2214
Epoch 5: val_loss improved from 2.27359 to 2.22894, saving model to music_classification.h5
44/44 [==============================] - 145s 3s/step - loss: 2.1451 - accuracy: 0.2214 - val_loss: 2.2289 - val_accuracy: 0.1200
Epoch 6/100
44/44 [==============================] - ETA: 0s - loss: 2.0606 - accuracy: 0.2500
Epoch 6: val_loss improved from 2.22894 to 2.20269, saving model to music_classification.h5
44/44 [==============================] - 148s 3s/step - loss: 2.0606 - accuracy: 0.2500 - val_loss: 2.2027 - val_accuracy: 0.1467
Epoch 7/100
44/44 [==============================] - ETA: 0s - loss: 2.0236 - accuracy: 0.2686
Epoch 7: val_loss improved from 2.20269 to 2.15573, saving model to music_classification.h5
44/44 [==============================] - 148s 3s/step - loss: 2.0236 - accuracy: 0.2686 - val_loss: 2.1557 - val_accuracy: 0.1867
Epoch 8/100
44/44 [==============================] - ETA: 0s - loss: 2.0187 - accuracy: 0.2914
Epoch 8: val_loss improved from 2.15573 to 2.13384, saving model to music_classification.h5
44/44 [==============================] - 147s 3s/step - loss: 2.0187 - accuracy: 0.2914 - val_loss: 2.1338 - val_accuracy: 0.1867
Epoch 9/100
44/44 [==============================] - ETA: 0s - loss: 1.9933 - accuracy: 0.2829
Epoch 9: val_loss improved from 2.13384 to 2.05206, saving model to music_classification.h5
44/44 [==============================] - 154s 4s/step - loss: 1.9933 - accuracy: 0.2829 - val_loss: 2.0521 - val_accuracy: 0.2800
Epoch 10/100
44/44 [==============================] - ETA: 0s - loss: 1.9396 - accuracy: 0.2957
Epoch 10: val_loss improved from 2.05206 to 2.00735, saving model to music_classification.h5
44/44 [==============================] - 237s 5s/step - loss: 1.9396 - accuracy: 0.2957 - val_loss: 2.0074 - val_accuracy: 0.2800
Epoch 11/100
44/44 [==============================] - ETA: 0s - loss: 1.9642 - accuracy: 0.3014
Epoch 11: val_loss improved from 2.00735 to 1.98388, saving model to music_classification.h5
44/44 [==============================] - 192s 4s/step - loss: 1.9642 - accuracy: 0.3014 - val_loss: 1.9839 - val_accuracy: 0.2600
Epoch 12/100
44/44 [==============================] - ETA: 0s - loss: 1.9049 - accuracy: 0.3129
Epoch 12: val_loss improved from 1.98388 to 1.92697, saving model to music_classification.h5
44/44 [==============================] - 180s 4s/step - loss: 1.9049 - accuracy: 0.3129 - val_loss: 1.9270 - val_accuracy: 0.2800
Epoch 13/100
44/44 [==============================] - ETA: 0s - loss: 1.9151 - accuracy: 0.3086
Epoch 13: val_loss improved from 1.92697 to 1.91502, saving model to music_classification.h5
44/44 [==============================] - 160s 4s/step - loss: 1.9151 - accuracy: 0.3086 - val_loss: 1.9150 - val_accuracy: 0.2800
Epoch 14/100
44/44 [==============================] - ETA: 0s - loss: 1.8738 - accuracy: 0.3129
Epoch 14: val_loss improved from 1.91502 to 1.87836, saving model to music_classification.h5
44/44 [==============================] - 154s 3s/step - loss: 1.8738 - accuracy: 0.3129 - val_loss: 1.8784 - val_accuracy: 0.3067
Epoch 15/100
44/44 [==============================] - ETA: 0s - loss: 1.8429 - accuracy: 0.3071
Epoch 15: val_loss improved from 1.87836 to 1.85028, saving model to music_classification.h5
44/44 [==============================] - 157s 4s/step - loss: 1.8429 - accuracy: 0.3071 - val_loss: 1.8503 - val_accuracy: 0.2867
Epoch 16/100
44/44 [==============================] - ETA: 0s - loss: 1.8228 - accuracy: 0.3300
Epoch 16: val_loss improved from 1.85028 to 1.77876, saving model to music_classification.h5
44/44 [==============================] - 153s 3s/step - loss: 1.8228 - accuracy: 0.3300 - val_loss: 1.7788 - val_accuracy: 0.3000
Epoch 17/100
44/44 [==============================] - ETA: 0s - loss: 1.7940 - accuracy: 0.3557
Epoch 17: val_loss improved from 1.77876 to 1.74234, saving model to music_classification.h5
44/44 [==============================] - 155s 4s/step - loss: 1.7940 - accuracy: 0.3557 - val_loss: 1.7423 - val_accuracy: 0.3400
Epoch 18/100
44/44 [==============================] - ETA: 0s - loss: 1.7926 - accuracy: 0.3386
Epoch 18: val_loss improved from 1.74234 to 1.72797, saving model to music_classification.h5
44/44 [==============================] - 155s 4s/step - loss: 1.7926 - accuracy: 0.3386 - val_loss: 1.7280 - val_accuracy: 0.3133
Epoch 19/100
44/44 [==============================] - ETA: 0s - loss: 1.7650 - accuracy: 0.3500
Epoch 19: val_loss improved from 1.72797 to 1.70471, saving model to music_classification.h5
44/44 [==============================] - 154s 4s/step - loss: 1.7650 - accuracy: 0.3500 - val_loss: 1.7047 - val_accuracy: 0.3667
Epoch 20/100
44/44 [==============================] - ETA: 0s - loss: 1.7564 - accuracy: 0.3686
Epoch 20: val_loss did not improve from 1.70471
44/44 [==============================] - 158s 4s/step - loss: 1.7564 - accuracy: 0.3686 - val_loss: 1.7641 - val_accuracy: 0.3267
Epoch 21/100
44/44 [==============================] - ETA: 0s - loss: 1.7171 - accuracy: 0.3471
Epoch 21: val_loss did not improve from 1.70471
44/44 [==============================] - 154s 3s/step - loss: 1.7171 - accuracy: 0.3471 - val_loss: 1.7837 - val_accuracy: 0.3467
Epoch 22/100
44/44 [==============================] - ETA: 0s - loss: 1.7712 - accuracy: 0.3300
Epoch 22: val_loss did not improve from 1.70471
44/44 [==============================] - 154s 4s/step - loss: 1.7712 - accuracy: 0.3300 - val_loss: 1.7107 - val_accuracy: 0.3333
Epoch 23/100
44/44 [==============================] - ETA: 0s - loss: 1.7328 - accuracy: 0.3357
Epoch 23: val_loss did not improve from 1.70471
44/44 [==============================] - 154s 3s/step - loss: 1.7328 - accuracy: 0.3357 - val_loss: 1.7441 - val_accuracy: 0.3533
Epoch 24/100
44/44 [==============================] - ETA: 0s - loss: 1.7320 - accuracy: 0.3357
Epoch 24: val_loss did not improve from 1.70471
44/44 [==============================] - 184s 4s/step - loss: 1.7320 - accuracy: 0.3357 - val_loss: 1.7257 - val_accuracy: 0.3667
Epoch 25/100
44/44 [==============================] - ETA: 0s - loss: 1.6911 - accuracy: 0.3529
Epoch 25: val_loss improved from 1.70471 to 1.68470, saving model to music_classification.h5
44/44 [==============================] - 249s 6s/step - loss: 1.6911 - accuracy: 0.3529 - val_loss: 1.6847 - val_accuracy: 0.3067
Epoch 26/100
44/44 [==============================] - ETA: 0s - loss: 1.7008 - accuracy: 0.3500
Epoch 26: val_loss improved from 1.68470 to 1.63780, saving model to music_classification.h5
44/44 [==============================] - 174s 4s/step - loss: 1.7008 - accuracy: 0.3500 - val_loss: 1.6378 - val_accuracy: 0.3600
Epoch 27/100
44/44 [==============================] - ETA: 0s - loss: 1.6788 - accuracy: 0.3700
Epoch 27: val_loss improved from 1.63780 to 1.63596, saving model to music_classification.h5
44/44 [==============================] - 152s 3s/step - loss: 1.6788 - accuracy: 0.3700 - val_loss: 1.6360 - val_accuracy: 0.3800
Epoch 28/100
44/44 [==============================] - ETA: 0s - loss: 1.5901 - accuracy: 0.3943
Epoch 28: val_loss did not improve from 1.63596
44/44 [==============================] - 157s 4s/step - loss: 1.5901 - accuracy: 0.3943 - val_loss: 1.6571 - val_accuracy: 0.3933
Epoch 29/100
44/44 [==============================] - ETA: 0s - loss: 1.6464 - accuracy: 0.3800
Epoch 29: val_loss improved from 1.63596 to 1.62051, saving model to music_classification.h5
44/44 [==============================] - 157s 4s/step - loss: 1.6464 - accuracy: 0.3800 - val_loss: 1.6205 - val_accuracy: 0.4267
Epoch 30/100
44/44 [==============================] - ETA: 0s - loss: 1.6132 - accuracy: 0.3871
Epoch 30: val_loss did not improve from 1.62051
44/44 [==============================] - 155s 4s/step - loss: 1.6132 - accuracy: 0.3871 - val_loss: 1.6406 - val_accuracy: 0.4333
Epoch 31/100
44/44 [==============================] - ETA: 0s - loss: 1.6147 - accuracy: 0.4086
Epoch 31: val_loss improved from 1.62051 to 1.61972, saving model to music_classification.h5
44/44 [==============================] - 153s 3s/step - loss: 1.6147 - accuracy: 0.4086 - val_loss: 1.6197 - val_accuracy: 0.3333
Epoch 32/100
44/44 [==============================] - ETA: 0s - loss: 1.6205 - accuracy: 0.3871
Epoch 32: val_loss improved from 1.61972 to 1.54624, saving model to music_classification.h5
44/44 [==============================] - 153s 3s/step - loss: 1.6205 - accuracy: 0.3871 - val_loss: 1.5462 - val_accuracy: 0.4333
Epoch 33/100
44/44 [==============================] - ETA: 0s - loss: 1.5416 - accuracy: 0.4143
Epoch 33: val_loss did not improve from 1.54624
44/44 [==============================] - 153s 3s/step - loss: 1.5416 - accuracy: 0.4143 - val_loss: 1.5866 - val_accuracy: 0.3933
Epoch 34/100
44/44 [==============================] - ETA: 0s - loss: 1.5513 - accuracy: 0.4314
Epoch 34: val_loss improved from 1.54624 to 1.53903, saving model to music_classification.h5
44/44 [==============================] - 155s 4s/step - loss: 1.5513 - accuracy: 0.4314 - val_loss: 1.5390 - val_accuracy: 0.4533
Epoch 35/100
44/44 [==============================] - ETA: 0s - loss: 1.5387 - accuracy: 0.4086
Epoch 35: val_loss improved from 1.53903 to 1.50236, saving model to music_classification.h5
44/44 [==============================] - 153s 3s/step - loss: 1.5387 - accuracy: 0.4086 - val_loss: 1.5024 - val_accuracy: 0.4733
Epoch 36/100
44/44 [==============================] - ETA: 0s - loss: 1.5019 - accuracy: 0.4314
Epoch 36: val_loss improved from 1.50236 to 1.49083, saving model to music_classification.h5
44/44 [==============================] - 154s 3s/step - loss: 1.5019 - accuracy: 0.4314 - val_loss: 1.4908 - val_accuracy: 0.4867
Epoch 37/100
44/44 [==============================] - ETA: 0s - loss: 1.5558 - accuracy: 0.3971
Epoch 37: val_loss did not improve from 1.49083
44/44 [==============================] - 155s 4s/step - loss: 1.5558 - accuracy: 0.3971 - val_loss: 1.5482 - val_accuracy: 0.4867
Epoch 38/100
44/44 [==============================] - ETA: 0s - loss: 1.5088 - accuracy: 0.4300
Epoch 38: val_loss did not improve from 1.49083
44/44 [==============================] - 155s 4s/step - loss: 1.5088 - accuracy: 0.4300 - val_loss: 1.5139 - val_accuracy: 0.4400
Epoch 39/100
44/44 [==============================] - ETA: 0s - loss: 1.4721 - accuracy: 0.4600
Epoch 39: val_loss improved from 1.49083 to 1.47254, saving model to music_classification.h5
44/44 [==============================] - 156s 4s/step - loss: 1.4721 - accuracy: 0.4600 - val_loss: 1.4725 - val_accuracy: 0.4667
Epoch 40/100
44/44 [==============================] - ETA: 0s - loss: 1.4275 - accuracy: 0.4643
Epoch 40: val_loss did not improve from 1.47254
44/44 [==============================] - 155s 4s/step - loss: 1.4275 - accuracy: 0.4643 - val_loss: 1.4839 - val_accuracy: 0.4800
Epoch 41/100
44/44 [==============================] - ETA: 0s - loss: 1.4173 - accuracy: 0.4671
Epoch 41: val_loss improved from 1.47254 to 1.47233, saving model to music_classification.h5
44/44 [==============================] - 156s 4s/step - loss: 1.4173 - accuracy: 0.4671 - val_loss: 1.4723 - val_accuracy: 0.4667
Epoch 42/100
44/44 [==============================] - ETA: 0s - loss: 1.4198 - accuracy: 0.4714
Epoch 42: val_loss improved from 1.47233 to 1.41283, saving model to music_classification.h5
44/44 [==============================] - 156s 4s/step - loss: 1.4198 - accuracy: 0.4714 - val_loss: 1.4128 - val_accuracy: 0.4867
Epoch 43/100
44/44 [==============================] - ETA: 0s - loss: 1.4530 - accuracy: 0.4514
Epoch 43: val_loss did not improve from 1.41283
44/44 [==============================] - 244s 6s/step - loss: 1.4530 - accuracy: 0.4514 - val_loss: 1.4750 - val_accuracy: 0.4600
Epoch 44/100
44/44 [==============================] - ETA: 0s - loss: 1.3924 - accuracy: 0.4900
Epoch 44: val_loss did not improve from 1.41283
44/44 [==============================] - 309s 7s/step - loss: 1.3924 - accuracy: 0.4900 - val_loss: 1.4687 - val_accuracy: 0.4933
Epoch 45/100
44/44 [==============================] - ETA: 0s - loss: 1.3776 - accuracy: 0.4886
Epoch 45: val_loss improved from 1.41283 to 1.39209, saving model to music_classification.h5
44/44 [==============================] - 151s 3s/step - loss: 1.3776 - accuracy: 0.4886 - val_loss: 1.3921 - val_accuracy: 0.4800
Epoch 46/100
44/44 [==============================] - ETA: 0s - loss: 1.4054 - accuracy: 0.4643
Epoch 46: val_loss improved from 1.39209 to 1.36359, saving model to music_classification.h5
44/44 [==============================] - 149s 3s/step - loss: 1.4054 - accuracy: 0.4643 - val_loss: 1.3636 - val_accuracy: 0.5133
Epoch 47/100
44/44 [==============================] - ETA: 0s - loss: 1.3530 - accuracy: 0.4914
Epoch 47: val_loss did not improve from 1.36359
44/44 [==============================] - 150s 3s/step - loss: 1.3530 - accuracy: 0.4914 - val_loss: 1.4244 - val_accuracy: 0.5067
Epoch 48/100
44/44 [==============================] - ETA: 0s - loss: 1.4650 - accuracy: 0.4614
Epoch 48: val_loss did not improve from 1.36359
44/44 [==============================] - 153s 3s/step - loss: 1.4650 - accuracy: 0.4614 - val_loss: 1.4338 - val_accuracy: 0.5267
Epoch 49/100
44/44 [==============================] - ETA: 0s - loss: 1.3681 - accuracy: 0.4814
Epoch 49: val_loss did not improve from 1.36359
44/44 [==============================] - 151s 3s/step - loss: 1.3681 - accuracy: 0.4814 - val_loss: 1.4030 - val_accuracy: 0.4800
Epoch 50/100
44/44 [==============================] - ETA: 0s - loss: 1.3534 - accuracy: 0.4800
Epoch 50: val_loss improved from 1.36359 to 1.35931, saving model to music_classification.h5
44/44 [==============================] - 154s 3s/step - loss: 1.3534 - accuracy: 0.4800 - val_loss: 1.3593 - val_accuracy: 0.5200
Epoch 51/100
44/44 [==============================] - ETA: 0s - loss: 1.3463 - accuracy: 0.4986
Epoch 51: val_loss did not improve from 1.35931
44/44 [==============================] - 154s 4s/step - loss: 1.3463 - accuracy: 0.4986 - val_loss: 1.3789 - val_accuracy: 0.4933
Epoch 52/100
44/44 [==============================] - ETA: 0s - loss: 1.2621 - accuracy: 0.5043
Epoch 52: val_loss did not improve from 1.35931
44/44 [==============================] - 154s 4s/step - loss: 1.2621 - accuracy: 0.5043 - val_loss: 1.5563 - val_accuracy: 0.4400
Epoch 53/100
44/44 [==============================] - ETA: 0s - loss: 1.2665 - accuracy: 0.5143
Epoch 53: val_loss improved from 1.35931 to 1.26686, saving model to music_classification.h5
44/44 [==============================] - 233s 5s/step - loss: 1.2665 - accuracy: 0.5143 - val_loss: 1.2669 - val_accuracy: 0.5533
Epoch 54/100
44/44 [==============================] - ETA: 0s - loss: 1.3029 - accuracy: 0.5057
Epoch 54: val_loss did not improve from 1.26686
44/44 [==============================] - 325s 7s/step - loss: 1.3029 - accuracy: 0.5057 - val_loss: 1.3468 - val_accuracy: 0.5200
Epoch 55/100
44/44 [==============================] - ETA: 0s - loss: 1.2590 - accuracy: 0.5157
Epoch 55: val_loss improved from 1.26686 to 1.26068, saving model to music_classification.h5
44/44 [==============================] - 324s 7s/step - loss: 1.2590 - accuracy: 0.5157 - val_loss: 1.2607 - val_accuracy: 0.5667
Epoch 56/100
44/44 [==============================] - ETA: 0s - loss: 1.2974 - accuracy: 0.5143
Epoch 56: val_loss did not improve from 1.26068
44/44 [==============================] - 324s 7s/step - loss: 1.2974 - accuracy: 0.5143 - val_loss: 1.3169 - val_accuracy: 0.5000
Epoch 57/100
44/44 [==============================] - ETA: 0s - loss: 1.2369 - accuracy: 0.5400
Epoch 57: val_loss did not improve from 1.26068
44/44 [==============================] - 325s 7s/step - loss: 1.2369 - accuracy: 0.5400 - val_loss: 1.3002 - val_accuracy: 0.5867
Epoch 58/100
44/44 [==============================] - ETA: 0s - loss: 1.2045 - accuracy: 0.5500
Epoch 58: val_loss did not improve from 1.26068
44/44 [==============================] - 324s 7s/step - loss: 1.2045 - accuracy: 0.5500 - val_loss: 1.2648 - val_accuracy: 0.5400
Epoch 59/100
44/44 [==============================] - ETA: 0s - loss: 1.2806 - accuracy: 0.5257
Epoch 59: val_loss did not improve from 1.26068
44/44 [==============================] - 325s 7s/step - loss: 1.2806 - accuracy: 0.5257 - val_loss: 1.3205 - val_accuracy: 0.5533
Epoch 60/100
44/44 [==============================] - ETA: 0s - loss: 1.2567 - accuracy: 0.5457
Epoch 60: val_loss improved from 1.26068 to 1.22898, saving model to music_classification.h5
44/44 [==============================] - 325s 7s/step - loss: 1.2567 - accuracy: 0.5457 - val_loss: 1.2290 - val_accuracy: 0.6133
Epoch 61/100
44/44 [==============================] - ETA: 0s - loss: 1.2385 - accuracy: 0.5343
Epoch 61: val_loss did not improve from 1.22898
44/44 [==============================] - 324s 7s/step - loss: 1.2385 - accuracy: 0.5343 - val_loss: 1.2846 - val_accuracy: 0.5733
Epoch 62/100
44/44 [==============================] - ETA: 0s - loss: 1.1540 - accuracy: 0.5757
Epoch 62: val_loss did not improve from 1.22898
44/44 [==============================] - 324s 7s/step - loss: 1.1540 - accuracy: 0.5757 - val_loss: 1.3036 - val_accuracy: 0.5533
Epoch 63/100
44/44 [==============================] - ETA: 0s - loss: 1.1890 - accuracy: 0.5657
Epoch 63: val_loss did not improve from 1.22898
44/44 [==============================] - 323s 7s/step - loss: 1.1890 - accuracy: 0.5657 - val_loss: 1.2326 - val_accuracy: 0.6000
Epoch 64/100
44/44 [==============================] - ETA: 0s - loss: 1.1709 - accuracy: 0.5700
Epoch 64: val_loss improved from 1.22898 to 1.21661, saving model to music_classification.h5
44/44 [==============================] - 326s 7s/step - loss: 1.1709 - accuracy: 0.5700 - val_loss: 1.2166 - val_accuracy: 0.5867
Epoch 65/100
44/44 [==============================] - ETA: 0s - loss: 1.0969 - accuracy: 0.5800
Epoch 65: val_loss improved from 1.21661 to 1.19315, saving model to music_classification.h5
44/44 [==============================] - 325s 7s/step - loss: 1.0969 - accuracy: 0.5800 - val_loss: 1.1931 - val_accuracy: 0.5933
Epoch 66/100
44/44 [==============================] - ETA: 0s - loss: 1.1494 - accuracy: 0.5586
Epoch 66: val_loss improved from 1.19315 to 1.16289, saving model to music_classification.h5
44/44 [==============================] - 325s 7s/step - loss: 1.1494 - accuracy: 0.5586 - val_loss: 1.1629 - val_accuracy: 0.5667
Epoch 67/100
44/44 [==============================] - ETA: 0s - loss: 1.1391 - accuracy: 0.5629
Epoch 67: val_loss did not improve from 1.16289
44/44 [==============================] - 325s 7s/step - loss: 1.1391 - accuracy: 0.5629 - val_loss: 1.2640 - val_accuracy: 0.5400
Epoch 68/100
44/44 [==============================] - ETA: 0s - loss: 1.1311 - accuracy: 0.5743
Epoch 68: val_loss improved from 1.16289 to 1.12525, saving model to music_classification.h5
44/44 [==============================] - 325s 7s/step - loss: 1.1311 - accuracy: 0.5743 - val_loss: 1.1253 - val_accuracy: 0.6467
Epoch 69/100
44/44 [==============================] - ETA: 0s - loss: 1.1491 - accuracy: 0.5657
Epoch 69: val_loss did not improve from 1.12525
44/44 [==============================] - 327s 7s/step - loss: 1.1491 - accuracy: 0.5657 - val_loss: 1.1976 - val_accuracy: 0.5600
Epoch 70/100
44/44 [==============================] - ETA: 0s - loss: 1.1053 - accuracy: 0.5771
Epoch 70: val_loss did not improve from 1.12525
44/44 [==============================] - 326s 7s/step - loss: 1.1053 - accuracy: 0.5771 - val_loss: 1.2701 - val_accuracy: 0.6267
Epoch 71/100
44/44 [==============================] - ETA: 0s - loss: 1.1241 - accuracy: 0.5671
Epoch 71: val_loss did not improve from 1.12525
44/44 [==============================] - 326s 7s/step - loss: 1.1241 - accuracy: 0.5671 - val_loss: 1.1812 - val_accuracy: 0.6000
Epoch 72/100
44/44 [==============================] - ETA: 0s - loss: 1.0450 - accuracy: 0.6143
Epoch 72: val_loss did not improve from 1.12525
44/44 [==============================] - 325s 7s/step - loss: 1.0450 - accuracy: 0.6143 - val_loss: 1.1944 - val_accuracy: 0.5600
Epoch 73/100
44/44 [==============================] - ETA: 0s - loss: 1.0835 - accuracy: 0.5843
Epoch 73: val_loss did not improve from 1.12525
44/44 [==============================] - 325s 7s/step - loss: 1.0835 - accuracy: 0.5843 - val_loss: 1.1475 - val_accuracy: 0.6133
Epoch 74/100
44/44 [==============================] - ETA: 0s - loss: 1.0964 - accuracy: 0.5786
Epoch 74: val_loss did not improve from 1.12525
44/44 [==============================] - 325s 7s/step - loss: 1.0964 - accuracy: 0.5786 - val_loss: 1.1348 - val_accuracy: 0.6000
Epoch 75/100
44/44 [==============================] - ETA: 0s - loss: 1.0238 - accuracy: 0.6014
Epoch 75: val_loss improved from 1.12525 to 1.06612, saving model to music_classification.h5
44/44 [==============================] - 325s 7s/step - loss: 1.0238 - accuracy: 0.6014 - val_loss: 1.0661 - val_accuracy: 0.5933
Epoch 76/100
44/44 [==============================] - ETA: 0s - loss: 1.0986 - accuracy: 0.5843
Epoch 76: val_loss did not improve from 1.06612
44/44 [==============================] - 325s 7s/step - loss: 1.0986 - accuracy: 0.5843 - val_loss: 1.1344 - val_accuracy: 0.6133
Epoch 77/100
44/44 [==============================] - ETA: 0s - loss: 1.0546 - accuracy: 0.5957
Epoch 77: val_loss did not improve from 1.06612
44/44 [==============================] - 323s 7s/step - loss: 1.0546 - accuracy: 0.5957 - val_loss: 1.1202 - val_accuracy: 0.6200
Epoch 78/100
44/44 [==============================] - ETA: 0s - loss: 1.0972 - accuracy: 0.5914
Epoch 78: val_loss did not improve from 1.06612
44/44 [==============================] - 323s 7s/step - loss: 1.0972 - accuracy: 0.5914 - val_loss: 1.0845 - val_accuracy: 0.6600
Epoch 79/100
44/44 [==============================] - ETA: 0s - loss: 1.0982 - accuracy: 0.5743
Epoch 79: val_loss did not improve from 1.06612
44/44 [==============================] - 324s 7s/step - loss: 1.0982 - accuracy: 0.5743 - val_loss: 1.0766 - val_accuracy: 0.6067
Epoch 80/100
44/44 [==============================] - ETA: 0s - loss: 1.0386 - accuracy: 0.6086
Epoch 80: val_loss did not improve from 1.06612
44/44 [==============================] - 323s 7s/step - loss: 1.0386 - accuracy: 0.6086 - val_loss: 1.1102 - val_accuracy: 0.6067
Epoch 81/100
44/44 [==============================] - ETA: 0s - loss: 0.9921 - accuracy: 0.6229
Epoch 81: val_loss improved from 1.06612 to 1.03203, saving model to music_classification.h5
44/44 [==============================] - 323s 7s/step - loss: 0.9921 - accuracy: 0.6229 - val_loss: 1.0320 - val_accuracy: 0.6267
Epoch 82/100
44/44 [==============================] - ETA: 0s - loss: 1.0315 - accuracy: 0.6286
Epoch 82: val_loss did not improve from 1.03203
44/44 [==============================] - 322s 7s/step - loss: 1.0315 - accuracy: 0.6286 - val_loss: 1.0901 - val_accuracy: 0.6133
Epoch 83/100
44/44 [==============================] - ETA: 0s - loss: 1.0178 - accuracy: 0.6014
Epoch 83: val_loss did not improve from 1.03203
44/44 [==============================] - 321s 7s/step - loss: 1.0178 - accuracy: 0.6014 - val_loss: 1.0399 - val_accuracy: 0.6067
Epoch 84/100
44/44 [==============================] - ETA: 0s - loss: 0.9325 - accuracy: 0.6371
Epoch 84: val_loss did not improve from 1.03203
44/44 [==============================] - 321s 7s/step - loss: 0.9325 - accuracy: 0.6371 - val_loss: 1.0844 - val_accuracy: 0.6800
Epoch 85/100
44/44 [==============================] - ETA: 0s - loss: 0.9518 - accuracy: 0.6157
Epoch 85: val_loss did not improve from 1.03203
44/44 [==============================] - 322s 7s/step - loss: 0.9518 - accuracy: 0.6157 - val_loss: 1.0514 - val_accuracy: 0.6000
Epoch 86/100
44/44 [==============================] - ETA: 0s - loss: 1.0233 - accuracy: 0.6100
Epoch 86: val_loss improved from 1.03203 to 0.98351, saving model to music_classification.h5
44/44 [==============================] - 323s 7s/step - loss: 1.0233 - accuracy: 0.6100 - val_loss: 0.9835 - val_accuracy: 0.7000
Epoch 87/100
44/44 [==============================] - ETA: 0s - loss: 1.0073 - accuracy: 0.5914
Epoch 87: val_loss did not improve from 0.98351
44/44 [==============================] - 323s 7s/step - loss: 1.0073 - accuracy: 0.5914 - val_loss: 1.1657 - val_accuracy: 0.6133
Epoch 88/100
44/44 [==============================] - ETA: 0s - loss: 0.9297 - accuracy: 0.6529
Epoch 88: val_loss did not improve from 0.98351
44/44 [==============================] - 322s 7s/step - loss: 0.9297 - accuracy: 0.6529 - val_loss: 1.0439 - val_accuracy: 0.6600
Epoch 89/100
44/44 [==============================] - ETA: 0s - loss: 0.9351 - accuracy: 0.6314
Epoch 89: val_loss did not improve from 0.98351
44/44 [==============================] - 322s 7s/step - loss: 0.9351 - accuracy: 0.6314 - val_loss: 1.1751 - val_accuracy: 0.5667
Epoch 90/100
44/44 [==============================] - ETA: 0s - loss: 0.9502 - accuracy: 0.6043
Epoch 90: val_loss did not improve from 0.98351
44/44 [==============================] - 322s 7s/step - loss: 0.9502 - accuracy: 0.6043 - val_loss: 1.0269 - val_accuracy: 0.6467
Epoch 91/100
44/44 [==============================] - ETA: 0s - loss: 1.0157 - accuracy: 0.6043
Epoch 91: val_loss did not improve from 0.98351
44/44 [==============================] - 323s 7s/step - loss: 1.0157 - accuracy: 0.6043 - val_loss: 1.1084 - val_accuracy: 0.6333
Epoch 92/100
44/44 [==============================] - ETA: 0s - loss: 0.9664 - accuracy: 0.6229
Epoch 92: val_loss did not improve from 0.98351
44/44 [==============================] - 323s 7s/step - loss: 0.9664 - accuracy: 0.6229 - val_loss: 1.1040 - val_accuracy: 0.6333
Epoch 93/100
44/44 [==============================] - ETA: 0s - loss: 0.9823 - accuracy: 0.6257
Epoch 93: val_loss did not improve from 0.98351
44/44 [==============================] - 324s 7s/step - loss: 0.9823 - accuracy: 0.6257 - val_loss: 1.0860 - val_accuracy: 0.6467
Epoch 94/100
44/44 [==============================] - ETA: 0s - loss: 0.9309 - accuracy: 0.6514
Epoch 94: val_loss did not improve from 0.98351
44/44 [==============================] - 322s 7s/step - loss: 0.9309 - accuracy: 0.6514 - val_loss: 1.0788 - val_accuracy: 0.6467
Epoch 95/100
44/44 [==============================] - ETA: 0s - loss: 0.9823 - accuracy: 0.5871
Epoch 95: val_loss did not improve from 0.98351
44/44 [==============================] - 322s 7s/step - loss: 0.9823 - accuracy: 0.5871 - val_loss: 1.0446 - val_accuracy: 0.6667
Epoch 96/100
44/44 [==============================] - ETA: 0s - loss: 0.8624 - accuracy: 0.6686
Epoch 96: val_loss did not improve from 0.98351
Restoring model weights from the end of the best epoch: 86.
44/44 [==============================] - 322s 7s/step - loss: 0.8624 - accuracy: 0.6686 - val_loss: 1.0108 - val_accuracy: 0.6400
Epoch 96: early stopping
